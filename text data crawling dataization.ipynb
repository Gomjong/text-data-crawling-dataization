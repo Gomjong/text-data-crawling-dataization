{
 "cells": [
  {
   "cell_type": "code",
   "execution_count": 30,
   "id": "419d73ac",
   "metadata": {},
   "outputs": [],
   "source": [
    "import pandas as pd\n",
    "from kss import split_sentences\n",
    "\n",
    "import numpy as np\n",
    "import itertools\n",
    "\n"
   ]
  },
  {
   "cell_type": "code",
   "execution_count": 31,
   "id": "6ba846e4",
   "metadata": {},
   "outputs": [],
   "source": [
    "voicephishing_대출사기형 = pd.read_csv(\"C:/Users/Bell/KOREN/sapple.csv\", encoding= 'CP949')"
   ]
  },
  {
   "cell_type": "code",
   "execution_count": 32,
   "id": "e4320e1e",
   "metadata": {},
   "outputs": [],
   "source": [
    "sp = df['content'].str.split('\\n')\n",
    "sp_list = sp.tolist()\n",
    "sp_final = list(itertools.chain(*sp_list))"
   ]
  },
  {
   "cell_type": "code",
   "execution_count": 43,
   "id": "7f746b80",
   "metadata": {},
   "outputs": [
    {
     "name": "stdout",
     "output_type": "stream",
     "text": [
      " 대출사기형 보이스피싱 텍스트 건수: 20\n"
     ]
    },
    {
     "ename": "ValueError",
     "evalue": "malformed node or string: ['여보세요 여보세요 아 예 일단은 상한기간 5년 연이율은 7.8% 이세요 그리고 한달에 납부되는 금액 36만 3255원 납부되실거고 한가지 알아주셔야 할게 이 1800이라는 자금은 고객님 일반 신용지원이 아니고 정부지원자금으로해서 국민들 세금으로 고객님 대출 받으신다는거 그건 알고 있으십시오. 그렇기 떄문에 일반 신용승인이 아닌 공증서 발급 승인으로 나오셨구요 그리고 공증 들어가시는데 2시간정도 소요되세요 그점 양해해주시고 공증 들어가시는데도 바로 1800만원 송금처리 들어가실거고 또 공증 내용에는 또 어떤게 들어갈거냐면요 이 1800에 대해서는요 나중에 가지고계시다 연체를 하시더라도 파산이랑 개인회생 그런거 신청 자체가 안되시는 거예요 무슨 말인지 아시겠죠 무조건 본인이 직접 갚아야 된다는 그런 공증 내용이 들어갈거구요 ']",
     "output_type": "error",
     "traceback": [
      "\u001b[1;31m---------------------------------------------------------------------------\u001b[0m",
      "\u001b[1;31mValueError\u001b[0m                                Traceback (most recent call last)",
      "Input \u001b[1;32mIn [43]\u001b[0m, in \u001b[0;36m<cell line: 8>\u001b[1;34m()\u001b[0m\n\u001b[0;32m      8\u001b[0m \u001b[38;5;28;01mfor\u001b[39;00m i \u001b[38;5;129;01min\u001b[39;00m \u001b[38;5;28mrange\u001b[39m(len_대출사기형_text):\n\u001b[0;32m      9\u001b[0m     cur_text \u001b[38;5;241m=\u001b[39m voicephishing_대출사기형_text[i]\n\u001b[1;32m---> 10\u001b[0m     cur_text \u001b[38;5;241m=\u001b[39m \u001b[43mast\u001b[49m\u001b[38;5;241;43m.\u001b[39;49m\u001b[43mliteral_eval\u001b[49m\u001b[43m(\u001b[49m\u001b[43mcur_text\u001b[49m\u001b[43m)\u001b[49m\n\u001b[0;32m     11\u001b[0m     voicephishing_대출사기형_text[i] \u001b[38;5;241m=\u001b[39m cur_text\n",
      "File \u001b[1;32m~\\Anaconda3\\lib\\ast.py:105\u001b[0m, in \u001b[0;36mliteral_eval\u001b[1;34m(node_or_string)\u001b[0m\n\u001b[0;32m    103\u001b[0m                 \u001b[38;5;28;01mreturn\u001b[39;00m left \u001b[38;5;241m-\u001b[39m right\n\u001b[0;32m    104\u001b[0m     \u001b[38;5;28;01mreturn\u001b[39;00m _convert_signed_num(node)\n\u001b[1;32m--> 105\u001b[0m \u001b[38;5;28;01mreturn\u001b[39;00m \u001b[43m_convert\u001b[49m\u001b[43m(\u001b[49m\u001b[43mnode_or_string\u001b[49m\u001b[43m)\u001b[49m\n",
      "File \u001b[1;32m~\\Anaconda3\\lib\\ast.py:104\u001b[0m, in \u001b[0;36mliteral_eval.<locals>._convert\u001b[1;34m(node)\u001b[0m\n\u001b[0;32m    102\u001b[0m         \u001b[38;5;28;01melse\u001b[39;00m:\n\u001b[0;32m    103\u001b[0m             \u001b[38;5;28;01mreturn\u001b[39;00m left \u001b[38;5;241m-\u001b[39m right\n\u001b[1;32m--> 104\u001b[0m \u001b[38;5;28;01mreturn\u001b[39;00m \u001b[43m_convert_signed_num\u001b[49m\u001b[43m(\u001b[49m\u001b[43mnode\u001b[49m\u001b[43m)\u001b[49m\n",
      "File \u001b[1;32m~\\Anaconda3\\lib\\ast.py:78\u001b[0m, in \u001b[0;36mliteral_eval.<locals>._convert_signed_num\u001b[1;34m(node)\u001b[0m\n\u001b[0;32m     76\u001b[0m     \u001b[38;5;28;01melse\u001b[39;00m:\n\u001b[0;32m     77\u001b[0m         \u001b[38;5;28;01mreturn\u001b[39;00m \u001b[38;5;241m-\u001b[39m operand\n\u001b[1;32m---> 78\u001b[0m \u001b[38;5;28;01mreturn\u001b[39;00m \u001b[43m_convert_num\u001b[49m\u001b[43m(\u001b[49m\u001b[43mnode\u001b[49m\u001b[43m)\u001b[49m\n",
      "File \u001b[1;32m~\\Anaconda3\\lib\\ast.py:69\u001b[0m, in \u001b[0;36mliteral_eval.<locals>._convert_num\u001b[1;34m(node)\u001b[0m\n\u001b[0;32m     67\u001b[0m \u001b[38;5;28;01mdef\u001b[39;00m \u001b[38;5;21m_convert_num\u001b[39m(node):\n\u001b[0;32m     68\u001b[0m     \u001b[38;5;28;01mif\u001b[39;00m \u001b[38;5;129;01mnot\u001b[39;00m \u001b[38;5;28misinstance\u001b[39m(node, Constant) \u001b[38;5;129;01mor\u001b[39;00m \u001b[38;5;28mtype\u001b[39m(node\u001b[38;5;241m.\u001b[39mvalue) \u001b[38;5;129;01mnot\u001b[39;00m \u001b[38;5;129;01min\u001b[39;00m (\u001b[38;5;28mint\u001b[39m, \u001b[38;5;28mfloat\u001b[39m, \u001b[38;5;28mcomplex\u001b[39m):\n\u001b[1;32m---> 69\u001b[0m         \u001b[43m_raise_malformed_node\u001b[49m\u001b[43m(\u001b[49m\u001b[43mnode\u001b[49m\u001b[43m)\u001b[49m\n\u001b[0;32m     70\u001b[0m     \u001b[38;5;28;01mreturn\u001b[39;00m node\u001b[38;5;241m.\u001b[39mvalue\n",
      "File \u001b[1;32m~\\Anaconda3\\lib\\ast.py:66\u001b[0m, in \u001b[0;36mliteral_eval.<locals>._raise_malformed_node\u001b[1;34m(node)\u001b[0m\n\u001b[0;32m     65\u001b[0m \u001b[38;5;28;01mdef\u001b[39;00m \u001b[38;5;21m_raise_malformed_node\u001b[39m(node):\n\u001b[1;32m---> 66\u001b[0m     \u001b[38;5;28;01mraise\u001b[39;00m \u001b[38;5;167;01mValueError\u001b[39;00m(\u001b[38;5;124mf\u001b[39m\u001b[38;5;124m'\u001b[39m\u001b[38;5;124mmalformed node or string: \u001b[39m\u001b[38;5;132;01m{\u001b[39;00mnode\u001b[38;5;132;01m!r}\u001b[39;00m\u001b[38;5;124m'\u001b[39m)\n",
      "\u001b[1;31mValueError\u001b[0m: malformed node or string: ['여보세요 여보세요 아 예 일단은 상한기간 5년 연이율은 7.8% 이세요 그리고 한달에 납부되는 금액 36만 3255원 납부되실거고 한가지 알아주셔야 할게 이 1800이라는 자금은 고객님 일반 신용지원이 아니고 정부지원자금으로해서 국민들 세금으로 고객님 대출 받으신다는거 그건 알고 있으십시오. 그렇기 떄문에 일반 신용승인이 아닌 공증서 발급 승인으로 나오셨구요 그리고 공증 들어가시는데 2시간정도 소요되세요 그점 양해해주시고 공증 들어가시는데도 바로 1800만원 송금처리 들어가실거고 또 공증 내용에는 또 어떤게 들어갈거냐면요 이 1800에 대해서는요 나중에 가지고계시다 연체를 하시더라도 파산이랑 개인회생 그런거 신청 자체가 안되시는 거예요 무슨 말인지 아시겠죠 무조건 본인이 직접 갚아야 된다는 그런 공증 내용이 들어갈거구요 ']"
     ]
    }
   ],
   "source": [
    "voicephishing_대출사기형_text = sp\n",
    "voicephishing_대출사기형_text = [i for i in voicephishing_대출사기형_text if i != []]\n",
    "len_대출사기형_text = len(voicephishing_대출사기형_text)\n",
    "print(f' 대출사기형 보이스피싱 텍스트 건수: {len_대출사기형_text}')\n",
    "\n",
    "\n",
    "# 문자열의 리스트화\n",
    "for i in range(len_대출사기형_text):\n",
    "    cur_text = voicephishing_대출사기형_text[i]\n",
    "    cur_text = ast.literal_eval(cur_text)\n",
    "    voicephishing_대출사기형_text[i] = cur_text\n"
   ]
  },
  {
   "cell_type": "code",
   "execution_count": 44,
   "id": "eed196bd",
   "metadata": {},
   "outputs": [
    {
     "data": {
      "text/plain": [
       "['여보세요 여보세요 아 예 일단은 상한기간 5년 연이율은 7.8% 이세요 그리고 한달에 납부되는 금액 36만 3255원 납부되실거고 한가지 알아주셔야 할게 이 1800이라는 자금은 고객님 일반 신용지원이 아니고 정부지원자금으로해서 국민들 세금으로 고객님 대출 받으신다는거 그건 알고 있으십시오. 그렇기 떄문에 일반 신용승인이 아닌 공증서 발급 승인으로 나오셨구요 그리고 공증 들어가시는데 2시간정도 소요되세요 그점 양해해주시고 공증 들어가시는데도 바로 1800만원 송금처리 들어가실거고 또 공증 내용에는 또 어떤게 들어갈거냐면요 이 1800에 대해서는요 나중에 가지고계시다 연체를 하시더라도 파산이랑 개인회생 그런거 신청 자체가 안되시는 거예요 무슨 말인지 아시겠죠 무조건 본인이 직접 갚아야 된다는 그런 공증 내용이 들어갈거구요 ']"
      ]
     },
     "execution_count": 44,
     "metadata": {},
     "output_type": "execute_result"
    }
   ],
   "source": [
    "cur_text"
   ]
  },
  {
   "cell_type": "code",
   "execution_count": 46,
   "id": "c0cf72d2",
   "metadata": {},
   "outputs": [
    {
     "data": {
      "text/plain": [
       "[['여보세요 여보세요 아 예 일단은 상한기간 5년 연이율은 7.8% 이세요 그리고 한달에 납부되는 금액 36만 3255원 납부되실거고 한가지 알아주셔야 할게 이 1800이라는 자금은 고객님 일반 신용지원이 아니고 정부지원자금으로해서 국민들 세금으로 고객님 대출 받으신다는거 그건 알고 있으십시오. 그렇기 떄문에 일반 신용승인이 아닌 공증서 발급 승인으로 나오셨구요 그리고 공증 들어가시는데 2시간정도 소요되세요 그점 양해해주시고 공증 들어가시는데도 바로 1800만원 송금처리 들어가실거고 또 공증 내용에는 또 어떤게 들어갈거냐면요 이 1800에 대해서는요 나중에 가지고계시다 연체를 하시더라도 파산이랑 개인회생 그런거 신청 자체가 안되시는 거예요 무슨 말인지 아시겠죠 무조건 본인이 직접 갚아야 된다는 그런 공증 내용이 들어갈거구요 '],\n",
       " ['그리고 공증 비용 50만 2000원이시구요 공증 비용은 세달동안 연체 안했을시에 환급 되시는데 만약에 연체시에는 공증 비용 50만2000원 환급 못 받으실 거 유념하시구요 그리고 입금 받을 은행은 국민은행 맞죠 예 그쪽으로 입금 처리 들어갈거고 원본 계약서 자택으로 보내 드릴까요 그거 받으시면 그 안에 은행용하고 개인용 두 가지가 있을 거예요 그중에 개인용만 가지고 계시고요 은행용은 작성해서 다시 저희쪽으로 보내 주세요 예 그리고 그 이자 납입일은 몇일로하실 거예요 15일날 가능합니다 예 그리고 핸드폰으로 누구 명의세요 어느 통신사써요 예 그리고 공증 비용은 지금 바로 처리 가능하겠어요 '],\n",
       " ['지금은 안되는데'],\n",
       " ['언제쯤 하실 것 같아요'],\n",
       " ['먼저 내고 받는거에요?'],\n",
       " ['네 공증이 들어가셔야해요'],\n",
       " ['고객님같은 경우는 무직이시고 통장상에 소득증빙할수있는 그런게 없으시기때문에 공증은 받으셔야되거든요 지금 그러니깐 구하실수는있으세요? 만약에 없다고 하면은 고객님 소득 증빙할 수 있는 통장 거래 내역을 저희쪽을 보내 주셔야 되는데 그런게 없잖아요 급여라던가 그런거 받은게 없잖아요 오늘이나 뭐 그제나 최근에 그렇죠?'],\n",
       " ['그분 그럼 번호가 어떻게 되죠'],\n",
       " ['접수 들어온 걸로 나오네요 전화번호 몰라요 확인해 줄까요 02-1670-3877 담당자가 정지웅씨로 나오세요 고객님도 전화해서 부탁하는 입장이고 작업 해 달라고 그러니까 거기서 물어보는 거는 이렇게 친절하게 답변해서 좀 친절하게 해서 잘 좀 부탁한다고 해서 작업 해 가지고 자금 받아 가시면 될 것 같으니까 그쪽으로 전화해서요 한번 물어보세요 지금 그쪽 상황을 공증받아야 되거나 아니면 소득 증빙 할 수 있는 통장 거래 내역 보내 달라고 하는데 그거 너한테 전화하면 만들어 준다고 하던데 어떻게 하면 되냐 그렇게 한번 전화 한 통 하세요 '],\n",
       " ['아 저 그리고 궁금한게 있는데요 정부지원자금이 무슨 캐시론? 이건 이름이 뭐예요'],\n",
       " [\"그쪽으로 전화하세요 그렇게 해서 소득증빙 통장 거래 내역 보내 주시고 자금 받아 가시면 되세요 예'\"],\n",
       " [\"'혹시 최근 2년 사이에 주민등록증이나 운전면허증 양도하거나 분실 한 적 있으십니까 그러면 요즘에 카드사 개인정보 유출이 많이 되었는데요 그걸로 인해 피해를 보신 사례가 있으십니까 이를 여쭤보는 이유는 저희가 그 2010년 7월 9일 날에 불법도박 금융사기단 일당 일부를 검거 했습니다 검거 현장에서 부산은행 통장이 발견되었고 압수한 통장에 불법도박자금 8600만원 이체 되어 있어서 동결시켰는데 본인게선 이 계좌에 대해 아는 부분이 있으니까 혹시 저는 45세 남성 분인데요 본인 모르신단 말씀이시죠 강상호씨에 진술에 따르면 통장을 돈주고 샀다고 했습니다. 본인이 판 내용 아니 하십니까 본인도 아시다 시피 통장 개설 하려면 본인이 은행을 직접 가셔야지만 발급되지 않습니까 지금 본인이 모른다고 해서 무마될 사건이 아닙니다. 황당할 수 있겠지만 이번 사간이 강상호란 사람이 불법 도박 사이트 운영하면서 대포통장이 필요하니깐 본인 포함한 전국에 130명의 명의자들에게 통장을 구매했다고 진술하셔서 연락된 부분이시구요 저도 지금 통화하다보면 몇몇 분들은 돈을받고 판매한 분들도 계셔서 이제 확인 차 연락된 부분이십니다. 판매한적 없다 이말씀이시지요? \"],\n",
       " ['예 그래서 저희도 지금 사건 조사하는 과정에서 밝혀진 건데 은행이나 보험사 카드사 통신사까지 지금  이번 사건에 연루되어 있더라고요  '],\n",
       " ['심지어 구속중인 부산은행 직원의 진술에 따르면 신분증이나 개인정보를 가지고 통장 신용카드 또는 현금카드 만들어서 그 강상우 일당들과 불법거래 했다고 진술한 상황이기 때문에 은행쪽 진술도 배제할수 없는 상황입니다 '],\n",
       " ['참고로 말씀드리지 않은건요 처벌에 관한 법률에 의하면 통장을 타인에게 판매하는 사람은요 3년이하의 징역이나  3천만원 이하의 벌금이  꼭 알고 계셔야 됩니다 그럼 지금 말씀드린건 본인이랑 아무 관계가 없다는 말씀이시죠  혹시 요근래에 이상한 문자스미싱 같은 걸 클릭 한 적 있으십니까 아 기억 잘 안 나신다 오늘 이사건에 연루된 혐의가 없기때문에 저희 검찰청으로 오셔서 지금 조사를 받으셔야겠는데 '],\n",
       " ['언제까지 저희 부산고등검찰청 출석 가능하겠습니까 부산고등검찰청 오늘은 시간 안되시고 내일 아침 10시까지 저희 검찰청 출석 가능하겠습니까'],\n",
       " ['사실여부를 판단하기 위해서 몇가지 질문드리겠습니다. 이 질문은요 본인이 일차피해자인 것을 밝히시는 질문이구요 전반적으로 녹취상태를 진행되실겁니다. 수사과정에서 저희가 강압수사던지 유도심문이라든지 그리고 본인께서 허위진술한 부분이 있으시면요 다른 기관에서도 심사가 들어 가실거구요 거짓말하시거나 속이시면 절대 안되세요 일단 녹취 진행 하겠습니다. '],\n",
       " ['부산고등검찰청 수사관입니다. 저희는 오늘 강상호 금융사건 일문일다옥 조사과정입니다. 본인 맞으십니까 강상호라는 사람과 전혀 모르는 사이십니까 부산은행 통장을 개설한적이 있으십니까?'],\n",
       " ['금요일 6월9일날 아침 10시부터 오후 2시사이에 어디에 계셨고 뭐하고 계셨죠 화요일입니다 전혀 기억안나십니까 무슨말인지 잘 이해되셨구요 본인 명의로 된 통장들이 불법적으로 사용되었다는 내용을 말씀드렸습니다. 알고 계셨습니까 금시초문이다 이말씀이시죠 합법적으로 거래하는 통장중에 부산은행이있으십니까 한번도 거래한적 없으시고요 그러면 주로 어떤 은행들 거래하고 계시죠? 국민은행 거래한다 이말이십니까 농협도 있으니구요 국민은행이나 농협은행을 제외한 다른 은행에서 본인 명의로된 통장이 발견되었을 경우에는요 개인정보유출로 인해 범죄자 들이 불법 개설한거 인정하고 저희들이 강제로 동결처리되실겁니다. 동의하십니까 그럼 혹시 제2금융권 증권거래를 하신적 있으십니까 예를들면 동양증권 삼성증권 증권사요 은행거래하실때요 본인 주로 인터넷이나 모바일로 자주하시는 편 이십니까 아니면 은행창구로 거래하시는 편이십니까 모바일 뱅킹을 자주 사용하셨구요 보안설정은 OTP로 하십니까 보안카드이십니까 '],\n",
       " ['모른다고 이러시면 김재환 씨라는 분이 고객님 부탁받고 오셨다고 하시는데요 고객님 이름으로 농협 통장 하고 주민등록증을 갖고 오셔서 ']]"
      ]
     },
     "execution_count": 46,
     "metadata": {},
     "output_type": "execute_result"
    }
   ],
   "source": [
    "STT_result_text"
   ]
  },
  {
   "cell_type": "code",
   "execution_count": 47,
   "id": "15a1d836",
   "metadata": {},
   "outputs": [],
   "source": [
    "# 피해자/사기범 명칭 제거\n",
    "for i in range(len_대출사기형_text):\n",
    "    cur_text = voicephishing_대출사기형_text[i]\n",
    "    \n",
    "    for j in range(len(cur_text)):\n",
    "        # 피해자 명칭 제거\n",
    "        if ('피해자:' in cur_text[j]) or ('피해자 : ' in cur_text[j]):\n",
    "            cur_text[j] = re.sub(r'피해자:', '', cur_text[j])\n",
    "            cur_text[j] = re.sub(r'피해자 : ', '', cur_text[j])\n",
    "            voicephishing_대출사기형_text[i][j] = cur_text[j]\n",
    "            continue\n",
    "            \n",
    "        # 사기범 명칭 제거\n",
    "        if ('사기범:' in cur_text[j]) or ('사기범 : ' in cur_text[j]):\n",
    "            cur_text[j] = re.sub(r'사기범:', '', cur_text[j])\n",
    "            cur_text[j] = re.sub(r'사기범 : ', '', cur_text[j])\n",
    "            voicephishing_대출사기형_text[i][j] = cur_text[j]"
   ]
  },
  {
   "cell_type": "code",
   "execution_count": 48,
   "id": "a871bbad",
   "metadata": {},
   "outputs": [],
   "source": [
    "# 문장 분리\n",
    "for i in range(len_대출사기형_text):\n",
    "    cur_text = voicephishing_대출사기형_text[i]\n",
    "    splited_text = []\n",
    "    \n",
    "    for j in range(len(cur_text)):       \n",
    "        # 문장 분리 후 길이 저장\n",
    "        splited = split_sentences(cur_text[j])\n",
    "        len_splited = len(splited)\n",
    "        \n",
    "        # 길이가 1이면 바로 추가함\n",
    "        if len_splited == 1:\n",
    "            splited_text.append(cur_text[j])\n",
    "        # 길이가 1이 아니면 나눠서 추가함\n",
    "        else:\n",
    "            for k in range(len_splited):\n",
    "                splited_text.append(splited[k])\n",
    "            \n",
    "    # 분리한 문장으로 대체\n",
    "    voicephishing_대출사기형_text[i] = splited_text"
   ]
  },
  {
   "cell_type": "code",
   "execution_count": 49,
   "id": "f2099b1a",
   "metadata": {},
   "outputs": [],
   "source": [
    "# 욕설 제거\n",
    "for i in range(len_대출사기형_text):\n",
    "    cur_text = voicephishing_대출사기형_text[i]\n",
    "    \n",
    "    for j in range(len(cur_text)):                      \n",
    "        # 욕설 이후 제거\n",
    "        if 'xx' in cur_text[j]:\n",
    "            del voicephishing_대출사기형_text[i][j:]\n",
    "            break\n",
    "                   "
   ]
  },
  {
   "cell_type": "code",
   "execution_count": 50,
   "id": "114e52fd",
   "metadata": {},
   "outputs": [
    {
     "name": "stdout",
     "output_type": "stream",
     "text": [
      " 대출사기형 사기범 문장 개수: 82\n"
     ]
    }
   ],
   "source": [
    "# 문장당 카운트 횟수\n",
    "countsent_대출사기형 = 0\n",
    "for i in range(len_대출사기형_text):\n",
    "    countsent_대출사기형 += len(voicephishing_대출사기형_text[i])\n",
    "print(f' 대출사기형 사기범 문장 개수: {countsent_대출사기형}')"
   ]
  },
  {
   "cell_type": "code",
   "execution_count": 51,
   "id": "8ae2e8d7",
   "metadata": {},
   "outputs": [
    {
     "name": "stdout",
     "output_type": "stream",
     "text": [
      " 보이스피싱 전체 사건 개수: 20\n",
      " 전체 문장 개수: 82\n"
     ]
    }
   ],
   "source": [
    "# 파일 통합\n",
    "voicephishing_전체_text = voicephishing_대출사기형_text\n",
    "len_전체_text = len(voicephishing_전체_text)\n",
    "print(f' 보이스피싱 전체 사건 개수: {len_전체_text}')\n",
    "\n",
    "countsent_전체 = 0\n",
    "for i in range(len_전체_text):\n",
    "    countsent_전체 += len(voicephishing_전체_text[i])\n",
    "print(f' 전체 문장 개수: {countsent_전체}')"
   ]
  },
  {
   "cell_type": "code",
   "execution_count": 52,
   "id": "aa93ea5c",
   "metadata": {},
   "outputs": [
    {
     "data": {
      "text/html": [
       "<div>\n",
       "<style scoped>\n",
       "    .dataframe tbody tr th:only-of-type {\n",
       "        vertical-align: middle;\n",
       "    }\n",
       "\n",
       "    .dataframe tbody tr th {\n",
       "        vertical-align: top;\n",
       "    }\n",
       "\n",
       "    .dataframe thead th {\n",
       "        text-align: right;\n",
       "    }\n",
       "</style>\n",
       "<table border=\"1\" class=\"dataframe\">\n",
       "  <thead>\n",
       "    <tr style=\"text-align: right;\">\n",
       "      <th></th>\n",
       "      <th>content</th>\n",
       "    </tr>\n",
       "  </thead>\n",
       "  <tbody>\n",
       "    <tr>\n",
       "      <th>0</th>\n",
       "      <td>[여보세요 여보세요 아 예 일단은 상한기간 5년 연이율은 7.8% 이세요, 그리고 ...</td>\n",
       "    </tr>\n",
       "    <tr>\n",
       "      <th>1</th>\n",
       "      <td>[그리고 공증 비용 50만 2000원이시구요, 공증 비용은 세달동안 연체 안했을시에...</td>\n",
       "    </tr>\n",
       "    <tr>\n",
       "      <th>2</th>\n",
       "      <td>[지금은 안되는데]</td>\n",
       "    </tr>\n",
       "    <tr>\n",
       "      <th>3</th>\n",
       "      <td>[언제쯤 하실 것 같아요]</td>\n",
       "    </tr>\n",
       "    <tr>\n",
       "      <th>4</th>\n",
       "      <td>[먼저 내고 받는거에요?]</td>\n",
       "    </tr>\n",
       "    <tr>\n",
       "      <th>5</th>\n",
       "      <td>[네 공증이 들어가셔야해요]</td>\n",
       "    </tr>\n",
       "    <tr>\n",
       "      <th>6</th>\n",
       "      <td>[고객님같은 경우는 무직이시고 통장상에 소득증빙할수있는 그런게 없으시기때문에 공증은...</td>\n",
       "    </tr>\n",
       "    <tr>\n",
       "      <th>7</th>\n",
       "      <td>[그분 그럼 번호가 어떻게 되죠]</td>\n",
       "    </tr>\n",
       "    <tr>\n",
       "      <th>8</th>\n",
       "      <td>[접수 들어온 걸로 나오네요 전화번호 몰라요 확인해 줄까요, 02-1670-3877...</td>\n",
       "    </tr>\n",
       "    <tr>\n",
       "      <th>9</th>\n",
       "      <td>[아 저 그리고 궁금한게 있는데요, 정부지원자금이 무슨 캐시론? 이건 이름이 뭐예요]</td>\n",
       "    </tr>\n",
       "  </tbody>\n",
       "</table>\n",
       "</div>"
      ],
      "text/plain": [
       "                                             content\n",
       "0  [여보세요 여보세요 아 예 일단은 상한기간 5년 연이율은 7.8% 이세요, 그리고 ...\n",
       "1  [그리고 공증 비용 50만 2000원이시구요, 공증 비용은 세달동안 연체 안했을시에...\n",
       "2                                         [지금은 안되는데]\n",
       "3                                     [언제쯤 하실 것 같아요]\n",
       "4                                     [먼저 내고 받는거에요?]\n",
       "5                                    [네 공증이 들어가셔야해요]\n",
       "6  [고객님같은 경우는 무직이시고 통장상에 소득증빙할수있는 그런게 없으시기때문에 공증은...\n",
       "7                                 [그분 그럼 번호가 어떻게 되죠]\n",
       "8  [접수 들어온 걸로 나오네요 전화번호 몰라요 확인해 줄까요, 02-1670-3877...\n",
       "9    [아 저 그리고 궁금한게 있는데요, 정부지원자금이 무슨 캐시론? 이건 이름이 뭐예요]"
      ]
     },
     "execution_count": 52,
     "metadata": {},
     "output_type": "execute_result"
    }
   ],
   "source": [
    "sample = pd.DataFrame({'content': voicephishing_전체_text})\n",
    "sample.head(10)"
   ]
  },
  {
   "cell_type": "code",
   "execution_count": null,
   "id": "a5bb8f4e",
   "metadata": {},
   "outputs": [],
   "source": []
  },
  {
   "cell_type": "code",
   "execution_count": null,
   "id": "02ff9530",
   "metadata": {},
   "outputs": [],
   "source": []
  }
 ],
 "metadata": {
  "kernelspec": {
   "display_name": "Python 3 (ipykernel)",
   "language": "python",
   "name": "python3"
  },
  "language_info": {
   "codemirror_mode": {
    "name": "ipython",
    "version": 3
   },
   "file_extension": ".py",
   "mimetype": "text/x-python",
   "name": "python",
   "nbconvert_exporter": "python",
   "pygments_lexer": "ipython3",
   "version": "3.9.13"
  }
 },
 "nbformat": 4,
 "nbformat_minor": 5
}
